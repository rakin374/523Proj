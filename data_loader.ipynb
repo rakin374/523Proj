{
 "cells": [
  {
   "cell_type": "code",
   "id": "initial_id",
   "metadata": {
    "collapsed": true,
    "ExecuteTime": {
     "end_time": "2024-12-08T05:17:42.544368Z",
     "start_time": "2024-12-08T05:17:41.501823Z"
    }
   },
   "source": [
    "import os\n",
    "import pandas as pd\n",
    "import numpy as np\n",
    "import glob\n",
    "import datetime\n",
    "from datetime import datetime\n",
    "import bz2\n",
    "import re\n",
    "import glob\n",
    "from tqdm import tqdm\n",
    "import random\n",
    "from datetime import timedelta\n",
    "\n",
    "# This mutes useless warnings:\n",
    "import warnings\n",
    "warnings.simplefilter(action='ignore', category=FutureWarning)\n"
   ],
   "outputs": [],
   "execution_count": 2
  },
  {
   "metadata": {
    "ExecuteTime": {
     "end_time": "2024-12-08T04:38:02.878410Z",
     "start_time": "2024-12-08T04:38:02.876456Z"
    }
   },
   "cell_type": "code",
   "source": [
    "#first preprocess the data with:\n",
    "# This will take a VERY long time, I recommend running in the terminal\n",
    "# !python dataloader.py"
   ],
   "id": "eb9d8d9e7a45ef68",
   "outputs": [],
   "execution_count": 2
  },
  {
   "metadata": {
    "ExecuteTime": {
     "end_time": "2024-12-08T05:19:03.753632Z",
     "start_time": "2024-12-08T05:17:44.203806Z"
    }
   },
   "cell_type": "code",
   "source": [
    "from data_loader import NASAAirportDataset\n",
    "\n",
    "# this will take a while\n",
    "train_ds = NASAAirportDataset('KCLT', 'data/preprocess/train')\n",
    "\n"
   ],
   "id": "3d50ffaa6207eb48",
   "outputs": [],
   "execution_count": 3
  },
  {
   "metadata": {
    "ExecuteTime": {
     "end_time": "2024-12-08T05:19:03.824799Z",
     "start_time": "2024-12-08T05:19:03.822108Z"
    }
   },
   "cell_type": "code",
   "source": [
    "\n",
    "# Change these times and samples\n",
    "def time_sampler(n_samples, start=datetime(2022, 9, 1, 0, 0, 0), end=datetime(2023, 9, 2, 23, 0)):\n",
    "    i = 0\n",
    "    while i < n_samples:\n",
    "        yield start + timedelta(seconds=random.randint(0, int((end - start).total_seconds())))\n",
    "        i += 1\n",
    "def data_itr():\n",
    "    for time in time_sampler(np.inf):\n",
    "        yield train_ds[time]\n",
    "# time_samples = [start + timedelta(seconds=random.randint(0, int((end - start).total_seconds()))) for _ in range(n_samples)]\n"
   ],
   "id": "2984e2dfd80fe073",
   "outputs": [],
   "execution_count": 4
  },
  {
   "metadata": {
    "ExecuteTime": {
     "end_time": "2024-12-08T04:57:50.946146Z",
     "start_time": "2024-12-08T04:57:43.335681Z"
    }
   },
   "cell_type": "code",
   "source": [
    "import torch\n",
    "\n",
    "for i in time_sampler(3):\n",
    "    print('Flights at time', i)\n",
    "    inputs, targets = train_ds[i]\n",
    "    print(inputs)\n",
    "    print(targets)\n",
    "    # for flight_data in train_ds[i]:\n",
    "    #     train model on one row of (flight_data)\n",
    "\n"
   ],
   "id": "f4c9c5d88c45d602",
   "outputs": [
    {
     "name": "stdout",
     "output_type": "stream",
     "text": [
      "Flights at time 2022-09-22 15:40:39\n",
      "tensor([[ 0.0139, -1.0000, -1.0000,  ..., -1.0000,  1.0000, -1.0000],\n",
      "        [ 0.0255, -1.0000, -1.0000,  ..., -1.0000,  1.0000, -1.0000],\n",
      "        [ 0.0374, -1.0000, -1.0000,  ..., -1.0000,  1.0000, -1.0000],\n",
      "        ...,\n",
      "        [ 0.9939, -1.0000, -1.0000,  ..., -1.0000,  1.0000, -1.0000],\n",
      "        [ 0.9739, -1.0000, -1.0000,  ..., -1.0000,  1.0000, -1.0000],\n",
      "        [ 0.9387, -1.0000, -1.0000,  ..., -1.0000,  1.0000, -1.0000]])\n",
      "tensor([1.3889e-02, 2.5463e-02, 3.7407e-02, 3.1019e-02, 2.4259e-02, 9.2593e-05,\n",
      "        1.5463e-02, 7.3148e-03, 6.0741e-02, 3.7685e-02, 4.7685e-02, 1.0491e-01,\n",
      "        4.6296e-02, 8.1296e-02, 1.2676e-01, 5.3148e-02, 9.4167e-02, 1.1287e-01,\n",
      "        6.7593e-02, 8.8148e-02, 1.1324e-01, 1.4148e-01, 1.8046e-01, 1.2176e-01,\n",
      "        1.7269e-01, 1.7111e-01, 1.6398e-01, 8.7315e-02, 1.8824e-01, 1.9056e-01,\n",
      "        2.0620e-01, 1.3028e-01, 1.4833e-01, 2.2657e-01, 1.5546e-01, 1.9778e-01,\n",
      "        2.2796e-01, 2.1861e-01, 1.3935e-01, 2.4870e-01, 2.7491e-01, 2.3843e-01,\n",
      "        3.4204e-01, 3.9556e-01, 4.0463e-01, 4.1259e-01, 4.2500e-01, 2.9639e-01,\n",
      "        4.5157e-01, 3.8676e-01, 4.8926e-01, 4.9176e-01, 4.7231e-01, 4.8343e-01,\n",
      "        4.5935e-01, 5.0083e-01, 4.5083e-01, 4.3806e-01, 4.6657e-01, 5.0917e-01,\n",
      "        4.7537e-01, 5.2148e-01, 5.8120e-01, 5.1315e-01, 5.5426e-01, 6.0491e-01,\n",
      "        5.3806e-01, 5.6796e-01, 6.0889e-01, 6.0296e-01, 6.1981e-01, 6.1824e-01,\n",
      "        5.2889e-01, 5.4528e-01, 5.7389e-01, 5.5963e-01, 5.5491e-01, 6.2463e-01,\n",
      "        6.3611e-01, 6.4824e-01, 6.1204e-01, 6.2750e-01, 5.8269e-01, 5.9648e-01,\n",
      "        6.6787e-01, 5.8917e-01, 6.9185e-01, 6.5120e-01, 6.4296e-01, 6.8222e-01,\n",
      "        6.9972e-01, 6.5833e-01, 6.7593e-01, 7.0713e-01, 6.2778e-01, 7.1463e-01,\n",
      "        6.8519e-01, 7.3880e-01, 7.5157e-01, 7.1583e-01, 7.2778e-01, 7.5148e-01,\n",
      "        6.9972e-01, 7.8241e-01, 7.3315e-01, 8.0815e-01, 7.9343e-01, 7.4176e-01,\n",
      "        8.8037e-01, 8.0954e-01, 8.2778e-01, 6.3843e-01, 7.6231e-01, 8.4139e-01,\n",
      "        7.9778e-01, 8.6102e-01, 8.7102e-01, 9.2944e-01, 8.9593e-01, 6.7167e-01,\n",
      "        9.8620e-01, 9.4417e-01, 9.9593e-01, 9.5713e-01, 9.0333e-01, 9.6954e-01,\n",
      "        9.9389e-01, 9.7389e-01, 9.3870e-01])\n",
      "Flights at time 2023-04-09 03:31:02\n",
      "tensor([[ 0.1081, -1.0000, -1.0000,  ..., -1.0000,  1.0000, -1.0000],\n",
      "        [ 0.1706, -1.0000, -1.0000,  ..., -1.0000,  1.0000, -1.0000],\n",
      "        [ 0.3270, -1.0000, -1.0000,  ..., -1.0000,  1.0000, -1.0000],\n",
      "        ...,\n",
      "        [ 0.1644, -1.0000, -1.0000,  ..., -1.0000,  1.0000, -1.0000],\n",
      "        [ 0.4543, -1.0000, -1.0000,  ..., -1.0000,  1.0000, -1.0000],\n",
      "        [ 0.0358, -1.0000, -1.0000,  ..., -1.0000,  1.0000, -1.0000]])\n",
      "tensor([0.1081, 0.1706, 0.3270, 0.2687, 0.8108, 0.7966, 0.1849, 0.5054, 0.0768,\n",
      "        0.4734, 0.1644, 0.4543, 0.0358])\n",
      "Flights at time 2022-12-13 04:30:25\n",
      "tensor([[ 0.0384,  1.0000, -1.0000,  ..., -1.0000,  1.0000, -1.0000],\n",
      "        [ 0.9002, -1.0000,  1.0000,  ..., -1.0000,  1.0000, -1.0000],\n",
      "        [ 0.1551, -1.0000,  1.0000,  ..., -1.0000,  1.0000, -1.0000],\n",
      "        ...,\n",
      "        [ 0.4503,  1.0000, -1.0000,  ..., -1.0000,  1.0000, -1.0000],\n",
      "        [ 0.8447, -1.0000,  1.0000,  ..., -1.0000,  1.0000, -1.0000],\n",
      "        [ 0.8742, -1.0000,  1.0000,  ..., -1.0000,  1.0000, -1.0000]])\n",
      "tensor([0.0384, 0.9002, 0.1551, 0.1801, 0.2965, 0.3785, 0.3601, 0.4503, 0.8447,\n",
      "        0.8742])\n"
     ]
    }
   ],
   "execution_count": 14
  },
  {
   "metadata": {
    "ExecuteTime": {
     "end_time": "2024-12-08T05:20:33.910897Z",
     "start_time": "2024-12-08T05:20:25.823900Z"
    }
   },
   "cell_type": "code",
   "source": [
    "\n",
    "import torch\n",
    "import torch.nn as nn\n",
    "import torch.optim as optim\n",
    "from torch.utils.data import DataLoader\n",
    "\n",
    "# dataset = NASAAirportDataset(airport_code='KJFK', data_dir='/path/to/data', lamp_df=lamp_df, to_tensor=True)\n",
    "\n",
    "\n",
    "input_dim = 1326\n",
    "output_dim = 4 * 3   # 15 min intervals across 3 hours\n",
    "hidden_dim = 64\n",
    "\n",
    "class SimpleFeedForward(nn.Module):\n",
    "    def __init__(self, input_dim, hidden_dim, output_dim):\n",
    "        super(SimpleFeedForward, self).__init__()\n",
    "        self.layers = nn.Sequential(\n",
    "            nn.Linear(input_dim, hidden_dim),\n",
    "            nn.ReLU(),\n",
    "            nn.Linear(hidden_dim, hidden_dim),\n",
    "            nn.ReLU(),\n",
    "            nn.Linear(hidden_dim, output_dim)\n",
    "        )\n",
    "\n",
    "    def forward(self, x):\n",
    "        return self.layers(x)\n",
    "\n",
    "model = SimpleFeedForward(input_dim, hidden_dim, output_dim)\n",
    "\n",
    "criterion = nn.MSELoss()\n",
    "optimizer = optim.Adam(model.parameters(), lr=1e-3)\n",
    "\n",
    "num_epochs = 1000\n",
    "model.train()\n",
    "\n",
    "# for epoch, time in (pbar := tqdm(enumerate(time_sampler(num_epochs)))):\n",
    "for epoch in (pbar := range(num_epochs)):\n",
    "    running_loss = 0.0\n",
    "    epoch_len = 0\n",
    "\n",
    "    for x_batch, y_batch in data_itr():\n",
    "        epoch_len = len(x_batch)\n",
    "        optimizer.zero_grad()\n",
    "        outputs = model(x_batch)  # forward pass\n",
    "        loss = criterion(outputs, y_batch)\n",
    "        loss.backward()  # backpropagate\n",
    "        optimizer.step()  # update weights\n",
    "\n",
    "        running_loss += loss.item() * x_batch.size(0)\n",
    "\n",
    "    epoch_loss = running_loss / epoch_len\n",
    "    pbar.set_description(f\"Epoch [{epoch+1}/{num_epochs}], Loss: {epoch_loss:.4f}\")\n",
    "\n",
    "print(\"Training completed.\")\n",
    "\n",
    "\n"
   ],
   "id": "c8840d4176d6d3ed",
   "outputs": [
    {
     "name": "stderr",
     "output_type": "stream",
     "text": [
      "/home/miner/repos/523Proj/venv/lib/python3.12/site-packages/torch/nn/modules/loss.py:608: UserWarning: Using a target size (torch.Size([1])) that is different to the input size (torch.Size([1, 12])). This will likely lead to incorrect results due to broadcasting. Please ensure they have the same size.\n",
      "  return F.mse_loss(input, target, reduction=self.reduction)\n",
      "/home/miner/repos/523Proj/venv/lib/python3.12/site-packages/torch/nn/modules/loss.py:608: UserWarning: Using a target size (torch.Size([117])) that is different to the input size (torch.Size([117, 12])). This will likely lead to incorrect results due to broadcasting. Please ensure they have the same size.\n",
      "  return F.mse_loss(input, target, reduction=self.reduction)\n"
     ]
    },
    {
     "ename": "RuntimeError",
     "evalue": "The size of tensor a (12) must match the size of tensor b (117) at non-singleton dimension 1",
     "output_type": "error",
     "traceback": [
      "\u001B[0;31m---------------------------------------------------------------------------\u001B[0m",
      "\u001B[0;31mRuntimeError\u001B[0m                              Traceback (most recent call last)",
      "Cell \u001B[0;32mIn[5], line 51\u001B[0m\n\u001B[1;32m     49\u001B[0m optimizer\u001B[38;5;241m.\u001B[39mzero_grad()\n\u001B[1;32m     50\u001B[0m outputs \u001B[38;5;241m=\u001B[39m model(x_batch)  \u001B[38;5;66;03m# forward pass\u001B[39;00m\n\u001B[0;32m---> 51\u001B[0m loss \u001B[38;5;241m=\u001B[39m \u001B[43mcriterion\u001B[49m\u001B[43m(\u001B[49m\u001B[43moutputs\u001B[49m\u001B[43m,\u001B[49m\u001B[43m \u001B[49m\u001B[43my_batch\u001B[49m\u001B[43m)\u001B[49m\n\u001B[1;32m     52\u001B[0m loss\u001B[38;5;241m.\u001B[39mbackward()  \u001B[38;5;66;03m# backpropagate\u001B[39;00m\n\u001B[1;32m     53\u001B[0m optimizer\u001B[38;5;241m.\u001B[39mstep()  \u001B[38;5;66;03m# update weights\u001B[39;00m\n",
      "File \u001B[0;32m~/repos/523Proj/venv/lib/python3.12/site-packages/torch/nn/modules/module.py:1736\u001B[0m, in \u001B[0;36mModule._wrapped_call_impl\u001B[0;34m(self, *args, **kwargs)\u001B[0m\n\u001B[1;32m   1734\u001B[0m     \u001B[38;5;28;01mreturn\u001B[39;00m \u001B[38;5;28mself\u001B[39m\u001B[38;5;241m.\u001B[39m_compiled_call_impl(\u001B[38;5;241m*\u001B[39margs, \u001B[38;5;241m*\u001B[39m\u001B[38;5;241m*\u001B[39mkwargs)  \u001B[38;5;66;03m# type: ignore[misc]\u001B[39;00m\n\u001B[1;32m   1735\u001B[0m \u001B[38;5;28;01melse\u001B[39;00m:\n\u001B[0;32m-> 1736\u001B[0m     \u001B[38;5;28;01mreturn\u001B[39;00m \u001B[38;5;28;43mself\u001B[39;49m\u001B[38;5;241;43m.\u001B[39;49m\u001B[43m_call_impl\u001B[49m\u001B[43m(\u001B[49m\u001B[38;5;241;43m*\u001B[39;49m\u001B[43margs\u001B[49m\u001B[43m,\u001B[49m\u001B[43m \u001B[49m\u001B[38;5;241;43m*\u001B[39;49m\u001B[38;5;241;43m*\u001B[39;49m\u001B[43mkwargs\u001B[49m\u001B[43m)\u001B[49m\n",
      "File \u001B[0;32m~/repos/523Proj/venv/lib/python3.12/site-packages/torch/nn/modules/module.py:1747\u001B[0m, in \u001B[0;36mModule._call_impl\u001B[0;34m(self, *args, **kwargs)\u001B[0m\n\u001B[1;32m   1742\u001B[0m \u001B[38;5;66;03m# If we don't have any hooks, we want to skip the rest of the logic in\u001B[39;00m\n\u001B[1;32m   1743\u001B[0m \u001B[38;5;66;03m# this function, and just call forward.\u001B[39;00m\n\u001B[1;32m   1744\u001B[0m \u001B[38;5;28;01mif\u001B[39;00m \u001B[38;5;129;01mnot\u001B[39;00m (\u001B[38;5;28mself\u001B[39m\u001B[38;5;241m.\u001B[39m_backward_hooks \u001B[38;5;129;01mor\u001B[39;00m \u001B[38;5;28mself\u001B[39m\u001B[38;5;241m.\u001B[39m_backward_pre_hooks \u001B[38;5;129;01mor\u001B[39;00m \u001B[38;5;28mself\u001B[39m\u001B[38;5;241m.\u001B[39m_forward_hooks \u001B[38;5;129;01mor\u001B[39;00m \u001B[38;5;28mself\u001B[39m\u001B[38;5;241m.\u001B[39m_forward_pre_hooks\n\u001B[1;32m   1745\u001B[0m         \u001B[38;5;129;01mor\u001B[39;00m _global_backward_pre_hooks \u001B[38;5;129;01mor\u001B[39;00m _global_backward_hooks\n\u001B[1;32m   1746\u001B[0m         \u001B[38;5;129;01mor\u001B[39;00m _global_forward_hooks \u001B[38;5;129;01mor\u001B[39;00m _global_forward_pre_hooks):\n\u001B[0;32m-> 1747\u001B[0m     \u001B[38;5;28;01mreturn\u001B[39;00m \u001B[43mforward_call\u001B[49m\u001B[43m(\u001B[49m\u001B[38;5;241;43m*\u001B[39;49m\u001B[43margs\u001B[49m\u001B[43m,\u001B[49m\u001B[43m \u001B[49m\u001B[38;5;241;43m*\u001B[39;49m\u001B[38;5;241;43m*\u001B[39;49m\u001B[43mkwargs\u001B[49m\u001B[43m)\u001B[49m\n\u001B[1;32m   1749\u001B[0m result \u001B[38;5;241m=\u001B[39m \u001B[38;5;28;01mNone\u001B[39;00m\n\u001B[1;32m   1750\u001B[0m called_always_called_hooks \u001B[38;5;241m=\u001B[39m \u001B[38;5;28mset\u001B[39m()\n",
      "File \u001B[0;32m~/repos/523Proj/venv/lib/python3.12/site-packages/torch/nn/modules/loss.py:608\u001B[0m, in \u001B[0;36mMSELoss.forward\u001B[0;34m(self, input, target)\u001B[0m\n\u001B[1;32m    607\u001B[0m \u001B[38;5;28;01mdef\u001B[39;00m \u001B[38;5;21mforward\u001B[39m(\u001B[38;5;28mself\u001B[39m, \u001B[38;5;28minput\u001B[39m: Tensor, target: Tensor) \u001B[38;5;241m-\u001B[39m\u001B[38;5;241m>\u001B[39m Tensor:\n\u001B[0;32m--> 608\u001B[0m     \u001B[38;5;28;01mreturn\u001B[39;00m \u001B[43mF\u001B[49m\u001B[38;5;241;43m.\u001B[39;49m\u001B[43mmse_loss\u001B[49m\u001B[43m(\u001B[49m\u001B[38;5;28;43minput\u001B[39;49m\u001B[43m,\u001B[49m\u001B[43m \u001B[49m\u001B[43mtarget\u001B[49m\u001B[43m,\u001B[49m\u001B[43m \u001B[49m\u001B[43mreduction\u001B[49m\u001B[38;5;241;43m=\u001B[39;49m\u001B[38;5;28;43mself\u001B[39;49m\u001B[38;5;241;43m.\u001B[39;49m\u001B[43mreduction\u001B[49m\u001B[43m)\u001B[49m\n",
      "File \u001B[0;32m~/repos/523Proj/venv/lib/python3.12/site-packages/torch/nn/functional.py:3791\u001B[0m, in \u001B[0;36mmse_loss\u001B[0;34m(input, target, size_average, reduce, reduction)\u001B[0m\n\u001B[1;32m   3788\u001B[0m \u001B[38;5;28;01mif\u001B[39;00m size_average \u001B[38;5;129;01mis\u001B[39;00m \u001B[38;5;129;01mnot\u001B[39;00m \u001B[38;5;28;01mNone\u001B[39;00m \u001B[38;5;129;01mor\u001B[39;00m reduce \u001B[38;5;129;01mis\u001B[39;00m \u001B[38;5;129;01mnot\u001B[39;00m \u001B[38;5;28;01mNone\u001B[39;00m:\n\u001B[1;32m   3789\u001B[0m     reduction \u001B[38;5;241m=\u001B[39m _Reduction\u001B[38;5;241m.\u001B[39mlegacy_get_string(size_average, reduce)\n\u001B[0;32m-> 3791\u001B[0m expanded_input, expanded_target \u001B[38;5;241m=\u001B[39m \u001B[43mtorch\u001B[49m\u001B[38;5;241;43m.\u001B[39;49m\u001B[43mbroadcast_tensors\u001B[49m\u001B[43m(\u001B[49m\u001B[38;5;28;43minput\u001B[39;49m\u001B[43m,\u001B[49m\u001B[43m \u001B[49m\u001B[43mtarget\u001B[49m\u001B[43m)\u001B[49m\n\u001B[1;32m   3792\u001B[0m \u001B[38;5;28;01mreturn\u001B[39;00m torch\u001B[38;5;241m.\u001B[39m_C\u001B[38;5;241m.\u001B[39m_nn\u001B[38;5;241m.\u001B[39mmse_loss(\n\u001B[1;32m   3793\u001B[0m     expanded_input, expanded_target, _Reduction\u001B[38;5;241m.\u001B[39mget_enum(reduction)\n\u001B[1;32m   3794\u001B[0m )\n",
      "File \u001B[0;32m~/repos/523Proj/venv/lib/python3.12/site-packages/torch/functional.py:76\u001B[0m, in \u001B[0;36mbroadcast_tensors\u001B[0;34m(*tensors)\u001B[0m\n\u001B[1;32m     74\u001B[0m \u001B[38;5;28;01mif\u001B[39;00m has_torch_function(tensors):\n\u001B[1;32m     75\u001B[0m     \u001B[38;5;28;01mreturn\u001B[39;00m handle_torch_function(broadcast_tensors, tensors, \u001B[38;5;241m*\u001B[39mtensors)\n\u001B[0;32m---> 76\u001B[0m \u001B[38;5;28;01mreturn\u001B[39;00m \u001B[43m_VF\u001B[49m\u001B[38;5;241;43m.\u001B[39;49m\u001B[43mbroadcast_tensors\u001B[49m\u001B[43m(\u001B[49m\u001B[43mtensors\u001B[49m\u001B[43m)\u001B[49m\n",
      "\u001B[0;31mRuntimeError\u001B[0m: The size of tensor a (12) must match the size of tensor b (117) at non-singleton dimension 1"
     ]
    }
   ],
   "execution_count": 5
  }
 ],
 "metadata": {
  "kernelspec": {
   "display_name": "Python 3",
   "language": "python",
   "name": "python3"
  },
  "language_info": {
   "codemirror_mode": {
    "name": "ipython",
    "version": 2
   },
   "file_extension": ".py",
   "mimetype": "text/x-python",
   "name": "python",
   "nbconvert_exporter": "python",
   "pygments_lexer": "ipython2",
   "version": "2.7.6"
  }
 },
 "nbformat": 4,
 "nbformat_minor": 5
}
