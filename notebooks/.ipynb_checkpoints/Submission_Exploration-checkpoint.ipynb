{
 "cells": [
  {
   "cell_type": "markdown",
   "id": "58404d4d-4bf1-45e1-b044-bf818aead5e9",
   "metadata": {},
   "source": [
    "# In this we will look at the submission csv"
   ]
  },
  {
   "cell_type": "code",
   "execution_count": 3,
   "id": "d470e582-8dbf-4d53-956c-83e8f95f8293",
   "metadata": {},
   "outputs": [
    {
     "name": "stdout",
     "output_type": "stream",
     "text": [
      "61920\n",
      "                      ID  Value\n",
      "0    KDEN_220925_0100_15     99\n",
      "1    KDEN_220925_0100_30     99\n",
      "2    KDEN_220925_0100_45     99\n",
      "3    KDEN_220925_0100_60     99\n",
      "4    KDEN_220925_0100_75     99\n",
      "5    KDEN_220925_0100_90     99\n",
      "6   KDEN_220925_0100_105     99\n",
      "7   KDEN_220925_0100_120     99\n",
      "8   KDEN_220925_0100_135     99\n",
      "9   KDEN_220925_0100_150     99\n",
      "10  KDEN_220925_0100_165     99\n",
      "11  KDEN_220925_0100_180     99\n",
      "12   KDEN_220925_0500_15     99\n",
      "13   KDEN_220925_0500_30     99\n",
      "14   KDEN_220925_0500_45     99\n",
      "15   KDEN_220925_0500_60     99\n",
      "16   KDEN_220925_0500_75     99\n",
      "17   KDEN_220925_0500_90     99\n",
      "18  KDEN_220925_0500_105     99\n",
      "19  KDEN_220925_0500_120     99\n"
     ]
    }
   ],
   "source": [
    "import pandas as pd\n",
    "\n",
    "# Specify the file path to your CSV file\n",
    "file_path = 'submission_format.csv'\n",
    "\n",
    "# Read the CSV file into a DataFrame\n",
    "sub_df = pd.read_csv(file_path)\n",
    "\n",
    "# Display the first few rows of the DataFrame\n",
    "print(len(sub_df))\n",
    "print(sub_df.head(20))"
   ]
  },
  {
   "cell_type": "code",
   "execution_count": 18,
   "id": "dfece360-2b39-4b8b-981d-01f75d1c2577",
   "metadata": {},
   "outputs": [
    {
     "data": {
      "text/html": [
       "<div>\n",
       "<style scoped>\n",
       "    .dataframe tbody tr th:only-of-type {\n",
       "        vertical-align: middle;\n",
       "    }\n",
       "\n",
       "    .dataframe tbody tr th {\n",
       "        vertical-align: top;\n",
       "    }\n",
       "\n",
       "    .dataframe thead th {\n",
       "        text-align: right;\n",
       "    }\n",
       "</style>\n",
       "<table border=\"1\" class=\"dataframe\">\n",
       "  <thead>\n",
       "    <tr style=\"text-align: right;\">\n",
       "      <th></th>\n",
       "      <th>ID</th>\n",
       "      <th>Value</th>\n",
       "      <th>airport_code</th>\n",
       "      <th>datetime</th>\n",
       "    </tr>\n",
       "  </thead>\n",
       "  <tbody>\n",
       "    <tr>\n",
       "      <th>0</th>\n",
       "      <td>KDEN_220925_0100_15</td>\n",
       "      <td>99</td>\n",
       "      <td>KDEN</td>\n",
       "      <td>2022-09-25 01:00:00</td>\n",
       "    </tr>\n",
       "    <tr>\n",
       "      <th>1</th>\n",
       "      <td>KDEN_220925_0100_30</td>\n",
       "      <td>99</td>\n",
       "      <td>KDEN</td>\n",
       "      <td>2022-09-25 01:00:00</td>\n",
       "    </tr>\n",
       "    <tr>\n",
       "      <th>2</th>\n",
       "      <td>KDEN_220925_0100_45</td>\n",
       "      <td>99</td>\n",
       "      <td>KDEN</td>\n",
       "      <td>2022-09-25 01:00:00</td>\n",
       "    </tr>\n",
       "    <tr>\n",
       "      <th>3</th>\n",
       "      <td>KDEN_220925_0100_60</td>\n",
       "      <td>99</td>\n",
       "      <td>KDEN</td>\n",
       "      <td>2022-09-25 01:00:00</td>\n",
       "    </tr>\n",
       "    <tr>\n",
       "      <th>4</th>\n",
       "      <td>KDEN_220925_0100_75</td>\n",
       "      <td>99</td>\n",
       "      <td>KDEN</td>\n",
       "      <td>2022-09-25 01:00:00</td>\n",
       "    </tr>\n",
       "  </tbody>\n",
       "</table>\n",
       "</div>"
      ],
      "text/plain": [
       "                    ID  Value airport_code            datetime\n",
       "0  KDEN_220925_0100_15     99         KDEN 2022-09-25 01:00:00\n",
       "1  KDEN_220925_0100_30     99         KDEN 2022-09-25 01:00:00\n",
       "2  KDEN_220925_0100_45     99         KDEN 2022-09-25 01:00:00\n",
       "3  KDEN_220925_0100_60     99         KDEN 2022-09-25 01:00:00\n",
       "4  KDEN_220925_0100_75     99         KDEN 2022-09-25 01:00:00"
      ]
     },
     "metadata": {},
     "output_type": "display_data"
    }
   ],
   "source": [
    "import pandas as pd\n",
    "from datetime import datetime\n",
    "\n",
    "\n",
    "# Create a DataFrame\n",
    "df = sub_df\n",
    "\n",
    "# Extract airport code (first 4 characters before the underscore)\n",
    "df['airport_code'] = df['ID'].str.extract(r'(^[A-Z]{4})')\n",
    "\n",
    "# Extract date-time from the string\n",
    "def parse_datetime(datetime_str):\n",
    "    # Split by underscore and extract the date and time\n",
    "    parts = datetime_str.split('_')\n",
    "    date_str, time_str = parts[1], parts[2]  # Extract date and time\n",
    "\n",
    "    # Convert to proper datetime format\n",
    "    try:\n",
    "        return datetime.strptime(date_str + time_str, '%y%m%d%H%M')\n",
    "    except ValueError:\n",
    "        # Return None if the datetime format doesn't match\n",
    "        return None\n",
    "\n",
    "# Apply the parsing function to create the datetime column\n",
    "df['datetime'] = df['ID'].apply(parse_datetime)\n",
    "\n",
    "# Display the resulting DataFrame\n",
    "display(df.head())\n"
   ]
  },
  {
   "cell_type": "code",
   "execution_count": null,
   "id": "e9aa7a8e-954e-4a06-a4b0-3fc88e0e56df",
   "metadata": {},
   "outputs": [],
   "source": []
  }
 ],
 "metadata": {
  "kernelspec": {
   "display_name": "Python 3 (ipykernel)",
   "language": "python",
   "name": "python3"
  },
  "language_info": {
   "codemirror_mode": {
    "name": "ipython",
    "version": 3
   },
   "file_extension": ".py",
   "mimetype": "text/x-python",
   "name": "python",
   "nbconvert_exporter": "python",
   "pygments_lexer": "ipython3",
   "version": "3.11.9"
  }
 },
 "nbformat": 4,
 "nbformat_minor": 5
}
