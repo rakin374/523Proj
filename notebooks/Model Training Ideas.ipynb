{
 "cells": [
  {
   "cell_type": "markdown",
   "id": "ebe50454",
   "metadata": {},
   "source": [
    "## Model Training Ideas \n",
    "\n",
    "\n",
    "We will be given a time, t and some airport a, and will need to predict how many airplesn will arrive in bins. We will explore two types of models to address this prediction problem. We will be using a tree based system such as XGBoost and we will be using a neural based system, something close to transformers. \n",
    "\n",
    "\n",
    "Our idea: \n",
    "def model(t: time, apt: airport_code): \n",
    "    planes_of_interest = Set(current planes in the air that have yet to arrive, planes that are being tracked, Scheduled arrivals within the next 4 hours) \n",
    "    world_state = Feature vector of airrival airport. \n",
    "    \n",
    "    2 What are the weather conditions of the surrounding "
   ]
  },
  {
   "cell_type": "code",
   "execution_count": null,
   "id": "ff9b9ba3",
   "metadata": {},
   "outputs": [],
   "source": []
  }
 ],
 "metadata": {
  "kernelspec": {
   "display_name": "Python 3 (ipykernel)",
   "language": "python",
   "name": "python3"
  },
  "language_info": {
   "codemirror_mode": {
    "name": "ipython",
    "version": 3
   },
   "file_extension": ".py",
   "mimetype": "text/x-python",
   "name": "python",
   "nbconvert_exporter": "python",
   "pygments_lexer": "ipython3",
   "version": "3.11.7"
  }
 },
 "nbformat": 4,
 "nbformat_minor": 5
}
